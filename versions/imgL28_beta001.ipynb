{
  "nbformat": 4,
  "nbformat_minor": 0,
  "metadata": {
    "colab": {
      "provenance": [],
      "include_colab_link": true
    },
    "kernelspec": {
      "name": "python3",
      "display_name": "Python 3"
    },
    "language_info": {
      "name": "python"
    }
  },
  "cells": [
    {
      "cell_type": "markdown",
      "metadata": {
        "id": "view-in-github",
        "colab_type": "text"
      },
      "source": [
        "<a href=\"https://colab.research.google.com/github/MateoOrtiz001/imgL28/blob/main/versions/imgL28_beta001.ipynb\" target=\"_parent\"><img src=\"https://colab.research.google.com/assets/colab-badge.svg\" alt=\"Open In Colab\"/></a>"
      ]
    },
    {
      "cell_type": "code",
      "source": [
        "!git clone https://github.com/MateoOrtiz001/imgL28"
      ],
      "metadata": {
        "id": "f2eXbAgLgOCH"
      },
      "execution_count": null,
      "outputs": []
    },
    {
      "cell_type": "code",
      "execution_count": null,
      "metadata": {
        "id": "LL6ooKesAXNs"
      },
      "outputs": [],
      "source": [
        "!pip install ipywidgets"
      ]
    },
    {
      "cell_type": "code",
      "source": [
        "import sys\n",
        "sys.path.append('/content/imgL28/imagecode')\n",
        "\n",
        "from funcs import *\n",
        "from google.colab import files\n",
        "from skimage import io\n",
        "from PIL import Image\n",
        "import matplotlib.pyplot as plt\n",
        "import ipywidgets as widgets\n",
        "from ipywidgets import interact\n",
        "\n",
        "import numpy as np"
      ],
      "metadata": {
        "id": "r7478vduAgrj"
      },
      "execution_count": 3,
      "outputs": []
    },
    {
      "cell_type": "code",
      "source": [
        "def download(quantizedImage):\n",
        "  output_image_path = \"image.png\"\n",
        "  quantized_image_rgb = (quantizedImage * 255).astype(np.uint8)\n",
        "  quantized_pil = Image.fromarray(quantized_image_rgb)\n",
        "  quantized_pil.save(output_image_path)\n",
        "  download_button = widgets.Button(description=\"Descargar Imagen\")\n",
        "  display(download_button)\n",
        "  download_button.on_click(lambda b: files.download(output_image_path))\n",
        "\n",
        "def drawimg(imagen,texto):\n",
        "  plt.figure(figsize=(7, 7))\n",
        "  plt.title(texto)\n",
        "  plt.imshow(imagen)\n",
        "  plt.axis('off')\n",
        "  plt.show()"
      ],
      "metadata": {
        "id": "7DhNYhlwJjMU"
      },
      "execution_count": 4,
      "outputs": []
    },
    {
      "cell_type": "markdown",
      "source": [
        "**Cargar Imagen**"
      ],
      "metadata": {
        "id": "3t4I2x9jAlk8"
      }
    },
    {
      "cell_type": "code",
      "source": [
        "uploaded = files.upload()\n",
        "image_path = next(iter(uploaded.keys()))\n",
        "image = Image.open(image_path).convert('RGB')\n",
        "image_np = np.array(image)\n",
        "drawimg(image,'Imagen cargada')"
      ],
      "metadata": {
        "id": "geoOLS04Ai1z"
      },
      "execution_count": null,
      "outputs": []
    },
    {
      "cell_type": "markdown",
      "source": [
        "# Funciones"
      ],
      "metadata": {
        "id": "JVeFlW9DArR1"
      }
    },
    {
      "cell_type": "markdown",
      "source": [
        "##**Reducción de Niveles RGB**"
      ],
      "metadata": {
        "id": "mCMus6GeAtgG"
      }
    },
    {
      "cell_type": "code",
      "source": [
        "def apply_quantization_RGB(levelsR, levelsG, levelsB):\n",
        "  quantizedImage = quantize_RGB(image_np, levelsR, levelsG, levelsB)\n",
        "  drawimg(quantizedImage,'Imagen cuantizada en las capas RGB')\n",
        "  download(quantizedImage)\n",
        "interact(apply_quantization_RGB,\n",
        "         levelsR=widgets.IntSlider(min=2, max=64, step=2, value=32, description='Niveles R'),\n",
        "         levelsG=widgets.IntSlider(min=2, max=64, step=2, value=16, description='Niveles G'),\n",
        "         levelsB=widgets.IntSlider(min=2, max=64, step=2, value=16, description='Niveles B'));"
      ],
      "metadata": {
        "id": "01cmPWfSAxCF"
      },
      "execution_count": null,
      "outputs": []
    },
    {
      "cell_type": "markdown",
      "source": [
        "##**Reducción de Niveles YCbCr**"
      ],
      "metadata": {
        "id": "Y-jnpbRLA3fO"
      }
    },
    {
      "cell_type": "code",
      "source": [
        "def apply_quantization_YCbCr(levelsY, levelsCb, levelsCr):\n",
        "  quantizedImage = quantize_YCbCr(image, levelsY, levelsCb, levelsCr)\n",
        "  drawimg(quantizedImage,'Imagen Cuantizada en las capas YCbCr')\n",
        "  download(quantizedImage)\n",
        "\n",
        "interact(apply_quantization_YCbCr,\n",
        "         levelsY=widgets.IntSlider(min=2, max=64, step=2, value=32, description='Niveles Y'),\n",
        "         levelsCb=widgets.IntSlider(min=2, max=64, step=2, value=16, description='Niveles Cb'),\n",
        "         levelsCr=widgets.IntSlider(min=2, max=64, step=2, value=16, description='Niveles Cr'));"
      ],
      "metadata": {
        "id": "QHMm2FwLA7gx"
      },
      "execution_count": null,
      "outputs": []
    }
  ]
}